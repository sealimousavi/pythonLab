{
 "cells": [
  {
   "cell_type": "markdown",
   "metadata": {},
   "source": [
    "# Python crash course\n",
    "\n",
    "Based on a lecture by CS50 of Harvard\n",
    "\n",
    "* Python is a very powerful and widely-used language that will allow us to quickly build fairly complicated web applications. In this course, we’ll be using Python 3, although Python 2 is still in use in some places. When looking at outside resources, be careful to make sure they’re using the same version.\n",
    "\n",
    "* Let’s start where we start with many programming languages: Hello, world. This program, written in Python, would look like this:\n"
   ]
  },
  {
   "cell_type": "code",
   "execution_count": null,
   "metadata": {},
   "outputs": [],
   "source": [
    "print(\"Hello, world!\")"
   ]
  },
  {
   "cell_type": "markdown",
   "metadata": {},
   "source": [
    "* To break down what’s going on in that line, there is a print function built in to the python language, that takes an argument in parentheses, and displays that argument on the command line.\n",
    "\n",
    "* To actually write and run this program on your computers, you’ll first type this line into your text editor of choice, and then save the file as something.py. Next, you’ll head over to your terminal, navigate to the directory containing your file, and type python something.py. In the case of the above program, the words “Hello, world!” will then be displayed in the terminal.\n",
    "\n",
    "* Depending on how your computer is set up, you may have to type python3 instead of python before the file name, and you may even have to download Python if you haven’t already. After installing Python, we recommend that you also download Pip, as you’ll need that later in the course.\n",
    "\n",
    "* When you type python file.py in your terminal, a program called an interpreter, which you downloaded together with Python, reads through your file line by line, and executes each line of the code. This is different than languages like C or Java, which need to be compiled into machine code before they can be run."
   ]
  },
  {
   "cell_type": "markdown",
   "metadata": {},
   "source": [
    "**Variables**\n",
    "\n",
    "A key part of any programming language is the ability to create and manipulate variables. In order to assign a value to a variable in Python, the syntax looks like this:\n",
    "\n"
   ]
  },
  {
   "cell_type": "code",
   "execution_count": 4,
   "metadata": {},
   "outputs": [],
   "source": [
    "a = 28\n",
    "b = 1.5\n",
    "c = \"Hello!\"\n",
    "d = True\n",
    "e = None"
   ]
  },
  {
   "cell_type": "markdown",
   "metadata": {},
   "source": [
    "Each of these lines is taking the value to the right of the =, and storing it in the variable name to the left."
   ]
  },
  {
   "cell_type": "markdown",
   "metadata": {},
   "source": [
    "Unlike in some other programming languages, Python variable types are inferred, meaning that while each variable does have a type, we do not have to explicitly state which type it is when we create the variable. Some of the most common variable types are:\n",
    "\n",
    "* **int**: An integer\n",
    "* **float**: A decimal number\n",
    "* **chr**: A single character\n",
    "* **str**: A string, or sequence of characters\n",
    "* **bool**: A value that is either True or False\n",
    "* **NoneType**: A special value (None) indicating the absence of a value.\n",
    "\n",
    "Now, we’ll work on writing a more interesting program that can take input from the user and say hello to that user. To do this, we’ll use another built in function called input which displays a prompt to the user, and returns whatever the user provides as input. For example, we can write the following in a file called name.py:"
   ]
  },
  {
   "cell_type": "code",
   "execution_count": null,
   "metadata": {},
   "outputs": [],
   "source": [
    "name = input(\"Name: \")\n",
    "print(\"Hello, \" + name)"
   ]
  },
  {
   "cell_type": "markdown",
   "metadata": {},
   "source": [
    "A couple of things to point out here:\n",
    "\n",
    "* In the first line, instead of assigning the variable name to an explicit value, we’re assigning it to whatever the input function returns.\n",
    "\n",
    "* In the second line, we’re using the + operator to combine, or concatenate, two strings. In python, the + operator can be used to add numbers or concatenate strings and lists."
   ]
  },
  {
   "cell_type": "markdown",
   "metadata": {},
   "source": [
    "**Formatting Strings**\n",
    "\n",
    "* While we can use the + operator to combine strings as we did above, in the latest versions of python, there are even easier ways to work with strings, known as formatted strings, or f-strings for short.\n",
    "\n",
    "* To indicate that we’re using formatted strings, we simply add an f before the quotation marks. For example, instead of using \"Hello, \" + name as we did above, we could write f\"Hello, {name}\" for the same result. We can even plug a function into this string if we want, and turn our program above into the single line:"
   ]
  },
  {
   "cell_type": "code",
   "execution_count": null,
   "metadata": {},
   "outputs": [],
   "source": [
    "print(f\"Hello, {input(\"Name: \")}\")"
   ]
  },
  {
   "cell_type": "markdown",
   "metadata": {},
   "source": [
    "**Conditions**\n",
    "\n",
    "* Just like in other programming languages, Python gives us the ability to run different segments of code based on different conditions. For example, in the program below, we’ll change our output depending on the number a user types in:\n"
   ]
  },
  {
   "cell_type": "code",
   "execution_count": null,
   "metadata": {},
   "outputs": [],
   "source": [
    "num = input(\"Number: \")\n",
    "if num > 0:\n",
    "    print(\"Number is positive\")\n",
    "elif num < 0:\n",
    "    print(\"Number is negative\")\n",
    "else:\n",
    "    print(\"Number is 0\")"
   ]
  },
  {
   "cell_type": "markdown",
   "metadata": {},
   "source": [
    "* Getting into how the above program works, conditionals in python contain a keyword (if, elif, or else) and then (except in the else case) a boolean expression, or an expression that evaluates to either True or False. Then, all of the code we want to run if a certain expression is true is indented directly below the statement. Indentation is required as part of the Python syntax.\n",
    "\n",
    "* However, when we run this program..."
   ]
  },
  {
   "cell_type": "markdown",
   "metadata": {},
   "source": [
    "* An exception is what happens when an error occurs while we’re running our python code, and over time you’ll get better and better at interpreting these errors, which is a very valuable skill to have.\n",
    "\n",
    "* Let’s look a bit more closely at this specific exception: If we look at the bottom, we’ll see that we ran into a TypeError, which generally means Python expected a certain variable to be of one type, but found it to be of another type. In this case, the exception tells us that we cannot use the > symbol to compare a str and int, and then above we can see that this comparison occurs in line 2.\n",
    "\n",
    "* In this case, it’s obvious that 0 is an integer, so it must be the case that our num variable is a string. This is happening because it turns out that the input function always returns a string, and we have to specify that it should be turned into (or cast into) an integer using the int function. This means our first line would now look like:"
   ]
  },
  {
   "cell_type": "code",
   "execution_count": null,
   "metadata": {},
   "outputs": [],
   "source": [
    "num = int(input(\"Number: \"))"
   ]
  },
  {
   "cell_type": "markdown",
   "metadata": {},
   "source": [
    "* Now, the program will work just as we intended!"
   ]
  },
  {
   "cell_type": "markdown",
   "metadata": {},
   "source": [
    "**Sequences**\n",
    "\n",
    "* One of the most powerful parts of the Python language is its ability to work with sequences of data in addition to individual variables.\n",
    "\n",
    "* There are several types of sequences that are similar in some ways, but different in others. When explaining those differences, we’ll use the terms mutable/immutable and ordered/unordered. Mutable means that once a sequence has been defined, we can change individual elements of that sequence, and ordered means that the order of the objects matters."
   ]
  },
  {
   "cell_type": "markdown",
   "metadata": {},
   "source": [
    "**Strings**\n",
    "\n",
    "**: Ordered: Yes**\n",
    "\n",
    "**Mutable**: No\n",
    "\n",
    "We’ve already looked at strings a little bit, but instead of just variables, we can think of a string as a sequence of characters. This means we can access individual elements within the string! For example:"
   ]
  },
  {
   "cell_type": "code",
   "execution_count": null,
   "metadata": {},
   "outputs": [],
   "source": [
    "name = \"Harry\"\n",
    "print(name[0])\n",
    "print(name[1])"
   ]
  },
  {
   "cell_type": "markdown",
   "metadata": {},
   "source": [
    "prints out the first (or index-0) character in the string, which in this case happens to be H, and then prints out the second (or index-1) character, which is a."
   ]
  },
  {
   "cell_type": "markdown",
   "metadata": {},
   "source": [
    "**Lists**\n",
    "\n",
    "**: Ordered: Yes**\n",
    "\n",
    "**Mutable**: Yes\n",
    "\n",
    "A Python list allows you to store any variable types. We create a list using square brackets and commas, as shown below. Similarly to strings, we can print an entire list, or some individual elements. We can also add elements to a list using ` append `, and ` sort ` a list using sort"
   ]
  },
  {
   "cell_type": "code",
   "execution_count": null,
   "metadata": {},
   "outputs": [],
   "source": [
    "# This is a Python comment\n",
    "names = [\"Harry\", \"Ron\", \"Hermione\"]\n",
    "# Print the entire list:\n",
    "print(names)\n",
    "# Print the second element of the list:\n",
    "print(names[1])\n",
    "# Add a new name to the list:\n",
    "names.append(\"Draco\")\n",
    "# Sort the list:\n",
    "names.sort()\n",
    "# Print the new list:\n",
    "print(names)"
   ]
  },
  {
   "cell_type": "markdown",
   "metadata": {},
   "source": [
    "**Sets**\n",
    "\n",
    "**: Ordered: No**\n",
    "\n",
    "**Mutable**: N/A\n",
    "\n",
    "Sets are different from lists and tuples in that they are **unordered**. They are also different because while you can have two or more of the same elements within a list/tuple, a set will only store each value once. We can define an empty set using the `set` function. We can then use `add` and `remove` to add and remove elements from that set, and the `len` function to find the set’s size. Note that the `len` function works on all sequences in python. Also note that despite adding `4` and `3` to the set twice, each item can only appear once in a set."
   ]
  },
  {
   "cell_type": "code",
   "execution_count": null,
   "metadata": {},
   "outputs": [],
   "source": [
    "# Create an empty set:\n",
    "s = set()\n",
    "\n",
    "# Add some elements:\n",
    "s.add(1)\n",
    "s.add(2)\n",
    "s.add(3)\n",
    "s.add(4)\n",
    "s.add(3)\n",
    "s.add(1)\n",
    "\n",
    "# Remove 2 from the set\n",
    "s.remove(2)\n",
    "\n",
    "# Print the set:\n",
    "print(s)\n",
    "\n",
    "# Find the size of the set:\n",
    "print(f\"The set has {len(s)} elements.\")\n",
    "\n",
    "\"\"\" This is a python multi-line comment:\n",
    "Output:\n",
    "{1, 3, 4}\n",
    "The set has 3 elements.\n",
    "\"\"\""
   ]
  },
  {
   "cell_type": "markdown",
   "metadata": {},
   "source": [
    "**Dictionaries**\n",
    "\n",
    "**: Ordered: No**\n",
    "\n",
    "**Mutable**: Yes\n",
    "\n",
    "Python Dictionaries or `dict`s, will be especially useful in this course. A dictionary is a set of **key-value pairs**, where each key has a corresponding value, just like in a dictionary, each word (the key) has a corresponding definition (the value). In Python, we use curly brackets to contain a dictionary, and colons to indicate keys and values. For example:"
   ]
  },
  {
   "cell_type": "code",
   "execution_count": null,
   "metadata": {},
   "outputs": [],
   "source": [
    "# Define a dictionary\n",
    "houses = {\"Harry\": \"Gryffindor\", \"Draco\": \"Slytherin\"}\n",
    "# Print out Harry's house\n",
    "print(houses[\"Harry\"])\n",
    "# Adding values to a dictionary:\n",
    "houses[\"Hermione\"] = \"Gryffindor\"\n",
    "# Print out Hermione's House:\n",
    "print(houses[\"Hermione\"])\n",
    "\n",
    "\"\"\" Output:\n",
    "Gryffindor\n",
    "Gryffindor\n",
    "\"\"\""
   ]
  },
  {
   "cell_type": "markdown",
   "metadata": {},
   "source": [
    "**Loops**\n",
    "\n",
    "Loops are an incredibly important part of any programming language, and in Python, they come in two main forms: for loops and while loops. For now, we’ll focus on For Loops.\n",
    "\n",
    "* For loops are used to iterate over a sequence of elements, performing some block of code (indented below) for each element in a sequence. For example, the following code will print out the numbers from 0 to 5:"
   ]
  },
  {
   "cell_type": "code",
   "execution_count": null,
   "metadata": {},
   "outputs": [],
   "source": [
    "for i in [0, 1, 2, 3, 4, 5]:\n",
    "    print(i)\n",
    "\n",
    "\"\"\" Output:\n",
    "0\n",
    "1\n",
    "2\n",
    "3\n",
    "4\n",
    "5\n",
    "\"\"\""
   ]
  },
  {
   "cell_type": "markdown",
   "metadata": {},
   "source": [
    "* We can condense this code using the python range function, which allows us to easily get a sequence of numbers. The following code gives the exact same result as our code from above:"
   ]
  },
  {
   "cell_type": "code",
   "execution_count": null,
   "metadata": {},
   "outputs": [],
   "source": [
    "for i in range(6):\n",
    "    print(i)\n",
    "\n",
    "\"\"\" Output:\n",
    "0\n",
    "1\n",
    "2\n",
    "3\n",
    "4\n",
    "5\n",
    "\"\"\""
   ]
  },
  {
   "cell_type": "markdown",
   "metadata": {},
   "source": [
    "* This type of loop can work for any sequence! For example, if we wish to print each name in a list, we could write the code below:"
   ]
  },
  {
   "cell_type": "code",
   "execution_count": null,
   "metadata": {},
   "outputs": [],
   "source": [
    "# Create a list:\n",
    "names = [\"Harry\", \"Ron\", \"Hermione\"]\n",
    "\n",
    "# Print each name:\n",
    "for name in names:\n",
    "    print(name)\n",
    "\n",
    "\"\"\" Output:\n",
    "Harry\n",
    "Ron\n",
    "Hermione\n",
    "\"\"\""
   ]
  },
  {
   "cell_type": "markdown",
   "metadata": {},
   "source": [
    "* We can get even more specific if we want, and loop through each character in a single name!\n"
   ]
  },
  {
   "cell_type": "code",
   "execution_count": null,
   "metadata": {},
   "outputs": [],
   "source": [
    "name = \"Harry\"\n",
    "for char in name:\n",
    "    print(char)\n",
    "\n",
    "\"\"\" Output:\n",
    "H\n",
    "a\n",
    "r\n",
    "r\n",
    "y\n",
    "\"\"\""
   ]
  },
  {
   "cell_type": "markdown",
   "metadata": {},
   "source": [
    "**Functions**\n",
    "\n",
    "We’ve already seen a few python functions such as `print` and `input`, but now we’re going to dive into writing our own functions. To get started, we’ll write a function that takes in a number and squares it:"
   ]
  },
  {
   "cell_type": "code",
   "execution_count": null,
   "metadata": {},
   "outputs": [],
   "source": [
    "def square(x):\n",
    "    return x * x"
   ]
  },
  {
   "cell_type": "markdown",
   "metadata": {},
   "source": [
    "Notice how we use the `def` keyword to indicate we’re defining a function, that we’re taking in a single input called `x`and that we use the `return` keyword to indicate what the function’s output should be.\n",
    "\n",
    "We can then “call” this function just as we’ve called other ones: using parentheses:"
   ]
  },
  {
   "cell_type": "code",
   "execution_count": null,
   "metadata": {},
   "outputs": [],
   "source": [
    "for i in range(10):\n",
    "    print(f\"The square of {i} is {square(i)}\")\n",
    "\n",
    "\"\"\" Output:\n",
    "The square of 0 is 0\n",
    "The square of 1 is 1\n",
    "The square of 2 is 4\n",
    "The square of 3 is 9\n",
    "The square of 4 is 16\n",
    "The square of 5 is 25\n",
    "The square of 6 is 36\n",
    "The square of 7 is 49\n",
    "The square of 8 is 64\n",
    "The square of 9 is 81\n",
    "\"\"\""
   ]
  },
  {
   "cell_type": "markdown",
   "metadata": {},
   "source": [
    "**Modules**\n",
    "\n",
    "As our projects get larger and larger, it will become useful to be able to write functions in one file and run them in another. In the case above, we could create create one file called functions.py with the code:"
   ]
  },
  {
   "cell_type": "code",
   "execution_count": null,
   "metadata": {},
   "outputs": [],
   "source": [
    "def square(x):\n",
    "    return x * x"
   ]
  },
  {
   "cell_type": "markdown",
   "metadata": {},
   "source": [
    "And another file called `square.py`with the code:"
   ]
  },
  {
   "cell_type": "code",
   "execution_count": null,
   "metadata": {},
   "outputs": [],
   "source": [
    "for i in range(10):\n",
    "    print(f\"The square of {i} is {square(i)}\")"
   ]
  },
  {
   "cell_type": "markdown",
   "metadata": {},
   "source": [
    "However, when we try to run `square.py`, we run into the following error:"
   ]
  },
  {
   "cell_type": "markdown",
   "metadata": {},
   "source": [
    "We run into this problem because by default, Python files don’t know about each other, so we have to explicitly `import` the square function from the `functions` **module** we just wrote. Now, when `square.py` looks like this:"
   ]
  },
  {
   "cell_type": "code",
   "execution_count": null,
   "metadata": {},
   "outputs": [],
   "source": [
    "from functions import square\n",
    "\n",
    "for i in range(10):\n",
    "    print(f\"The square of {i} is {square(i)}\")"
   ]
  },
  {
   "cell_type": "markdown",
   "metadata": {},
   "source": [
    "Alternatively, we can choose to import the entire `functions` module and then use dot notation to access the `square` function:\n",
    "\n"
   ]
  },
  {
   "cell_type": "code",
   "execution_count": null,
   "metadata": {},
   "outputs": [],
   "source": [
    "import functions\n",
    "\n",
    "for i in range(10):\n",
    "    print(f\"The square of {i} is {functions.square(i)}\")"
   ]
  },
  {
   "cell_type": "markdown",
   "metadata": {},
   "source": [
    "There are many built-in Python modules we can import such as `math` or `csv` that give us access to even more functions. Additionally, we can download even more Modules to access even more functionality! "
   ]
  },
  {
   "cell_type": "markdown",
   "metadata": {},
   "source": [
    "**Advanced topics...**\n",
    "\n",
    "* Object-Oriented Programming\n",
    "* Functional Programming\n",
    "* Exceptions"
   ]
  },
  {
   "cell_type": "code",
   "execution_count": null,
   "metadata": {},
   "outputs": [],
   "source": []
  }
 ],
 "metadata": {
  "kernelspec": {
   "display_name": "Python 3",
   "language": "python",
   "name": "python3"
  },
  "language_info": {
   "codemirror_mode": {
    "name": "ipython",
    "version": 3
   },
   "file_extension": ".py",
   "mimetype": "text/x-python",
   "name": "python",
   "nbconvert_exporter": "python",
   "pygments_lexer": "ipython3",
   "version": "3.7.6"
  }
 },
 "nbformat": 4,
 "nbformat_minor": 4
}
